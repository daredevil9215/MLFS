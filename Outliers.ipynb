{
 "cells": [
  {
   "cell_type": "code",
   "execution_count": 1,
   "metadata": {},
   "outputs": [],
   "source": [
    "import numpy as np"
   ]
  },
  {
   "cell_type": "markdown",
   "metadata": {},
   "source": [
    "# Outlier detection methods\n",
    "\n",
    "- Z-Score\n",
    "- Interquartile Range\n",
    "- Isolation Forest\n",
    "- Local Outlier Factor\n",
    "- One Class Support Vector Machine\n",
    "- DBSCAN\n",
    "\n",
    "***"
   ]
  },
  {
   "cell_type": "markdown",
   "metadata": {},
   "source": [
    "## Z-Score\n",
    "\n",
    "- measures how many standard deviation units away a sample $x$ is from the mean $\\mu$\n",
    "\n",
    "- when Z-Score of a sample is greater than some threshold the sample is labeled as an outlier\n",
    "\n",
    "- $ z = \\frac{x - \\mu}{\\sigma} $"
   ]
  },
  {
   "cell_type": "code",
   "execution_count": 2,
   "metadata": {},
   "outputs": [
    {
     "name": "stdout",
     "output_type": "stream",
     "text": [
      "[0.52352964 0.27422981 0.27422981 0.27422981 0.02492998 0.52352964\n",
      " 0.52352964 2.96666795 0.27422981 0.27422981]\n",
      "[15]\n"
     ]
    }
   ],
   "source": [
    "from scipy.stats import zscore\n",
    "\n",
    "data = np.array([1, 2, 2, 2, 3, 1, 1, 15, 2, 2])\n",
    "\n",
    "z_scores = np.abs(zscore(data))\n",
    "print(z_scores)\n",
    "\n",
    "threshold = 2\n",
    "outlier_idxs = np.where(z_scores > threshold)\n",
    "\n",
    "outliers = data[outlier_idxs]\n",
    "print(outliers)"
   ]
  },
  {
   "cell_type": "code",
   "execution_count": 3,
   "metadata": {},
   "outputs": [
    {
     "name": "stdout",
     "output_type": "stream",
     "text": [
      "[0.52352964 0.27422981 0.27422981 0.27422981 0.02492998 0.52352964\n",
      " 0.52352964 2.96666795 0.27422981 0.27422981]\n",
      "[15]\n"
     ]
    }
   ],
   "source": [
    "def _zscore(x):\n",
    "    \"\"\"\n",
    "    Custom implementation of zscore.\n",
    "    \"\"\"\n",
    "    mean = np.mean(x)\n",
    "    std = np.std(x)\n",
    "    return (x - mean) / std\n",
    "\n",
    "z_scores = np.abs(_zscore(data))\n",
    "print(z_scores)\n",
    "\n",
    "threshold = 2\n",
    "outlier_idxs = np.where(z_scores > threshold)\n",
    "\n",
    "outliers = data[outlier_idxs]\n",
    "print(outliers)"
   ]
  },
  {
   "cell_type": "markdown",
   "metadata": {},
   "source": [
    "## Interquartile Range\n",
    "\n",
    "- range given by the difference between the third quartile and the first quartile, $\\text{IQR} = Q3 - Q1$\n",
    "\n",
    "- sample is labeled as an outlier if it is not contained in the interval $\\left( Q1 - k \\cdot \\text{IQR}, Q3 + k \\cdot \\text{IQR} \\right)$ where $k$ is some threshold (most often 1.5 or 3)"
   ]
  },
  {
   "cell_type": "code",
   "execution_count": 4,
   "metadata": {},
   "outputs": [
    {
     "name": "stdout",
     "output_type": "stream",
     "text": [
      "Q1: 1.25, Q3: 2.0, IQR: 0.75\n",
      "[15]\n"
     ]
    }
   ],
   "source": [
    "Q1 = np.percentile(data, 25)\n",
    "Q3 = np.percentile(data, 75)\n",
    "IQR = Q3 - Q1\n",
    "\n",
    "print(f'Q1: {Q1}, Q3: {Q3}, IQR: {IQR}')\n",
    "\n",
    "outliers = [x for x in data if x < (Q1 - 1.5 * IQR) or x > (Q3 + 1.5 * IQR)]\n",
    "print(outliers)"
   ]
  },
  {
   "cell_type": "code",
   "execution_count": 5,
   "metadata": {},
   "outputs": [
    {
     "name": "stdout",
     "output_type": "stream",
     "text": [
      "[15]\n"
     ]
    }
   ],
   "source": [
    "def iqr_outlier(data, k=1.5):\n",
    "    \"\"\"\n",
    "    Function for finding indices of outliers which are not contained in the range (Q1 - k * IQR, Q3 + k * IQR).\n",
    "    \"\"\"\n",
    "    Q1 = np.percentile(data, 25)\n",
    "    Q3 = np.percentile(data, 75)\n",
    "    IQR = Q3 - Q1\n",
    "    idxs = np.logical_or(data < (Q1 - k * IQR), data > (Q3 + k * IQR))\n",
    "    return idxs\n",
    "\n",
    "outlier_idxs = iqr_outlier(data)\n",
    "print(data[outlier_idxs])"
   ]
  },
  {
   "cell_type": "markdown",
   "metadata": {},
   "source": [
    "# Isolation Forest\n",
    "\n",
    "- variation of Random Forest, searches for samples that are the easiest to separate from the rest\n",
    "\n",
    "- contamination parameter is the proportion of outliers present in the dataset"
   ]
  },
  {
   "cell_type": "code",
   "execution_count": 6,
   "metadata": {},
   "outputs": [
    {
     "name": "stdout",
     "output_type": "stream",
     "text": [
      "IF prediction: [ 1  1  1  1  1  1  1 -1  1  1]\n",
      "[15]\n"
     ]
    }
   ],
   "source": [
    "from sklearn.ensemble import IsolationForest\n",
    "\n",
    "data = np.array([1, 2, 2, 2, 3, 1, 1, 15, 2, 2])\n",
    "data = data.reshape(-1, 1)\n",
    "clf = IsolationForest(contamination=0.1)\n",
    "clf.fit(data)\n",
    "\n",
    "predictions = clf.predict(data)\n",
    "print(f'IF prediction: {predictions}')\n",
    "\n",
    "outlier_idxs = np.where(predictions != 1)\n",
    "outliers = data[outlier_idxs].reshape(-1)\n",
    "print(outliers)"
   ]
  },
  {
   "cell_type": "markdown",
   "metadata": {},
   "source": [
    "# Local Outlier Factor\n",
    "\n",
    "- computes local density of a point with respect to its neighbors\n",
    "\n",
    "- outliers are points which have lower density than neighbors"
   ]
  },
  {
   "cell_type": "code",
   "execution_count": 7,
   "metadata": {},
   "outputs": [
    {
     "name": "stdout",
     "output_type": "stream",
     "text": [
      "[ 1  1  1  1  1  1  1 -1  1  1]\n",
      "[15]\n"
     ]
    }
   ],
   "source": [
    "from sklearn.neighbors import LocalOutlierFactor\n",
    "\n",
    "data = np.array([1, 2, 2, 2, 3, 1, 1, 15, 2, 2])\n",
    "data = data.reshape(-1, 1)\n",
    "clf = LocalOutlierFactor(n_neighbors=8)\n",
    "\n",
    "predictions = clf.fit_predict(data)\n",
    "print(predictions)\n",
    "\n",
    "outlier_idxs = np.where(predictions != 1)\n",
    "outliers = data[outlier_idxs].reshape(-1)\n",
    "print(outliers)"
   ]
  },
  {
   "cell_type": "markdown",
   "metadata": {},
   "source": [
    "# One Class SVM\n",
    "\n",
    "- unsupervised version of SVM adjusted for outlier detection"
   ]
  },
  {
   "cell_type": "code",
   "execution_count": 8,
   "metadata": {},
   "outputs": [
    {
     "name": "stdout",
     "output_type": "stream",
     "text": [
      "[ 1  1  1  1 -1  1  1  1  1  1]\n",
      "[3]\n"
     ]
    }
   ],
   "source": [
    "from sklearn.svm import OneClassSVM\n",
    "\n",
    "data = np.array([1, 2, 2, 2, 3, 1, 1, 15, 2, 2])\n",
    "data = data.reshape(-1, 1)\n",
    "clf = OneClassSVM(nu=0.1)\n",
    "\n",
    "predictions = clf.fit_predict(data)\n",
    "print(predictions)\n",
    "\n",
    "outlier_idxs = np.where(predictions != 1)\n",
    "outliers = data[outlier_idxs].reshape(-1)\n",
    "print(outliers)"
   ]
  },
  {
   "cell_type": "markdown",
   "metadata": {},
   "source": [
    "# DBSCAN\n",
    "\n",
    "- clustering method which uses density\n",
    "\n",
    "- outliers are points which do not belong to any cluster"
   ]
  },
  {
   "cell_type": "code",
   "execution_count": 10,
   "metadata": {},
   "outputs": [
    {
     "name": "stdout",
     "output_type": "stream",
     "text": [
      "[ 0  0  0  0  0  0  0 -1  0  0]\n",
      "[15]\n"
     ]
    }
   ],
   "source": [
    "from sklearn.cluster import DBSCAN\n",
    "\n",
    "data = np.array([1, 2, 2, 2, 3, 1, 1, 15, 2, 2])\n",
    "data = data.reshape(-1, 1)\n",
    "\n",
    "dbs = DBSCAN(eps=3, min_samples=2)\n",
    "predictions = dbs.fit_predict(data)\n",
    "print(predictions)\n",
    "\n",
    "outlier_idxs = np.where(predictions != 0)\n",
    "outliers = data[outlier_idxs].reshape(-1)\n",
    "print(outliers)"
   ]
  }
 ],
 "metadata": {
  "kernelspec": {
   "display_name": "Python_venv",
   "language": "python",
   "name": "python3"
  },
  "language_info": {
   "codemirror_mode": {
    "name": "ipython",
    "version": 3
   },
   "file_extension": ".py",
   "mimetype": "text/x-python",
   "name": "python",
   "nbconvert_exporter": "python",
   "pygments_lexer": "ipython3",
   "version": "3.10.12"
  }
 },
 "nbformat": 4,
 "nbformat_minor": 2
}
