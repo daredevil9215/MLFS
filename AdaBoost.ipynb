{
 "cells": [
  {
   "cell_type": "markdown",
   "metadata": {},
   "source": [
    "# AdaBoost\n",
    "\n",
    "### Fit\n",
    "\n",
    "1. Initialize weight for each sample $w_0 = \\frac{1}{N}$\n",
    "2. Train $n$ classifiers\n",
    "\n",
    "### Training\n",
    "1. Initialize weak classifier (decision stump)\n",
    "2. Using greedy search loop over all features and threshold\n",
    "3. Calculate the error $\\epsilon$ = sum of weights associated with each misclassified sample for each (feature, threshold) pair\n",
    "4. If $\\epsilon \\geq 0.5$, flip $\\epsilon$ to $1 - \\epsilon$ and polarity to -1\n",
    "5. When the smallest $\\epsilon$ is obtained store the current polarity, feature and threshold \n",
    "6. After greedy search calculate $\\alpha = 0.5 \\log \\left( \\frac{1 - \\epsilon}{\\epsilon} \\right)$\n",
    "7. Update weights $\\mathbf{w_{n + 1}} = \\mathbf{w_{n}} \\cdot \\exp(- \\alpha \\cdot h(\\mathbf{X}))$\n",
    "8. Normalize weights $\\mathbf{w_{n + 1}} = \\frac{\\mathbf{w_{n + 1}}}{\\sum w}$\n",
    "\n",
    "### Predict\n",
    "1. Calculate $ \\text{sgn} \\left( \\sum_{i}^{n} \\alpha_i \\cdot h_i(\\mathbf{X}) \\right)$"
   ]
  },
  {
   "cell_type": "code",
   "execution_count": 2,
   "metadata": {},
   "outputs": [],
   "source": [
    "import numpy as np\n",
    "import matplotlib.pyplot as plt"
   ]
  },
  {
   "cell_type": "code",
   "execution_count": 3,
   "metadata": {},
   "outputs": [],
   "source": [
    "def plot_2d_clf_problem(X, y, h=None):\n",
    "    '''\n",
    "    Plots a two-dimensional labeled dataset (X,y) and, if function h(x) is given, \n",
    "    the decision surfaces.\n",
    "    '''\n",
    "    assert X.shape[1] == 2, \"Dataset is not two-dimensional\"\n",
    "    if h!=None : \n",
    "        # Create a mesh to plot in\n",
    "        r = 0.03  # mesh resolution\n",
    "        x_min, x_max = X[:, 0].min() - 1, X[:, 0].max() + 1\n",
    "        y_min, y_max = X[:, 1].min() - 1, X[:, 1].max() + 1\n",
    "        xx, yy = np.meshgrid(np.arange(x_min, x_max, r),\n",
    "                             np.arange(y_min, y_max, r))\n",
    "        XX=np.c_[xx.ravel(), yy.ravel()]\n",
    "        try:\n",
    "            Z_test = h(XX)\n",
    "            if Z_test.shape == ():\n",
    "                # h returns a scalar when applied to a matrix; map explicitly\n",
    "                Z = np.array(list(map(h,XX)))\n",
    "            else :\n",
    "                Z = Z_test\n",
    "        except ValueError:\n",
    "            # can't apply to a matrix; map explicitly\n",
    "            Z = np.array(list(map(h,XX)))\n",
    "        # Put the result into a color plot\n",
    "        Z = Z.reshape(xx.shape)\n",
    "        plt.contourf(xx, yy, Z, cmap=plt.cm.Pastel1)\n",
    "\n",
    "    # Plot the dataset\n",
    "    plt.scatter(X[:,0],X[:,1], c=y, cmap=plt.cm.tab20b, marker='o', s=50);"
   ]
  },
  {
   "cell_type": "code",
   "execution_count": 4,
   "metadata": {},
   "outputs": [],
   "source": [
    "class DecisionStump:\n",
    "    \n",
    "    def __init__(self):\n",
    "        self.polarity = 1\n",
    "        self.feature_idx = None\n",
    "        self.threshold = None\n",
    "        self.alpha = None\n",
    "\n",
    "    def predict(self, X):\n",
    "        n_samples = X.shape[0]\n",
    "        X_column = X[:, self.feature_idx]\n",
    "        predictions = np.ones(n_samples)\n",
    "\n",
    "        if self.polarity == 1:\n",
    "            predictions[X_column < self.threshold] = -1\n",
    "        else:\n",
    "            predictions[X_column > self.threshold] = -1\n",
    "\n",
    "        return predictions\n",
    "    \n",
    "class AdaBoost:\n",
    "\n",
    "    def __init__(self, n_classifiers=5):\n",
    "        self.n_classifiers = n_classifiers\n",
    "\n",
    "    def fit(self, X, y):\n",
    "        n_samples, n_features = X.shape\n",
    "\n",
    "        # Initialize weights\n",
    "        w = np.ones(n_samples) / n_samples\n",
    "\n",
    "        self.classifiers = []\n",
    "\n",
    "        # Train n classifiers\n",
    "        for _ in range(self.n_classifiers):\n",
    "\n",
    "            # Create weak classifier\n",
    "            clf = DecisionStump()\n",
    "\n",
    "            min_error = float('inf')\n",
    "\n",
    "            # Loop over all features and thresholds\n",
    "            for feature_index in range(n_features):\n",
    "\n",
    "                X_column = X[:, feature_index]\n",
    "                thresholds = np.unique(X_column)\n",
    "\n",
    "                for threshold in thresholds:\n",
    "\n",
    "                    p = 1\n",
    "                    predictions = np.ones(n_samples)\n",
    "                    predictions[X_column < threshold] = -1\n",
    "\n",
    "                    misclassified = w[y != predictions]\n",
    "                    error = sum(misclassified)\n",
    "\n",
    "                    if error > 0.5:\n",
    "                        error = 1 - error\n",
    "                        p = -1\n",
    "\n",
    "                    if error < min_error:\n",
    "                        min_error = error\n",
    "                        clf.polarity = p\n",
    "                        clf.threshold = threshold\n",
    "                        clf.feature_idx = feature_index\n",
    "            \n",
    "            clf.alpha = 0.5 * np.log((1 - error) / (error + 1e-10))\n",
    "\n",
    "            predictions = clf.predict(X)\n",
    "\n",
    "            # Update weights\n",
    "            w *= np.exp(-clf.alpha * y * predictions)\n",
    "            # Normalize weights\n",
    "            w /= sum(w)\n",
    "\n",
    "            self.classifiers.append(clf)\n",
    "\n",
    "    def predict(self, X):\n",
    "        return np.sign(np.sum([clf.alpha * clf.predict(X) for clf in self.classifiers], axis=0))\n"
   ]
  },
  {
   "cell_type": "code",
   "execution_count": 5,
   "metadata": {},
   "outputs": [
    {
     "data": {
      "image/png": "[encoded data removed]",
      "text/plain": [
       "<Figure size 640x480 with 1 Axes>"
      ]
     },
     "metadata": {},
     "output_type": "display_data"
    }
   ],
   "source": [
    "from sklearn.datasets import make_classification\n",
    "\n",
    "X, y = make_classification(n_samples=20, n_features=2, n_classes=2, n_informative=2, n_redundant=0)\n",
    "y = np.where(y != 1, -1, 1)\n",
    "plot_2d_clf_problem(X, y)"
   ]
  },
  {
   "cell_type": "code",
   "execution_count": 7,
   "metadata": {},
   "outputs": [
    {
     "name": "stdout",
     "output_type": "stream",
     "text": [
      "Accuracy: 0.95\n"
     ]
    },
    {
     "data": {
      "image/png": "[encoded data removed]",
      "text/plain": [
       "<Figure size 640x480 with 1 Axes>"
      ]
     },
     "metadata": {},
     "output_type": "display_data"
    }
   ],
   "source": [
    "model = AdaBoost()\n",
    "model.fit(X, y)\n",
    "y_pred = model.predict(X)\n",
    "print(f'Accuracy: {np.mean(y_pred == y)}')\n",
    "plot_2d_clf_problem(X, y, model.predict)\n",
    "plt.show()"
   ]
  }
 ],
 "metadata": {
  "kernelspec": {
   "display_name": "Python_venv",
   "language": "python",
   "name": "python3"
  },
  "language_info": {
   "codemirror_mode": {
    "name": "ipython",
    "version": 3
   },
   "file_extension": ".py",
   "mimetype": "text/x-python",
   "name": "python",
   "nbconvert_exporter": "python",
   "pygments_lexer": "ipython3",
   "version": "3.10.12"
  }
 },
 "nbformat": 4,
 "nbformat_minor": 2
}
