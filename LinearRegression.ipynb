{
 "cells": [
  {
   "cell_type": "markdown",
   "metadata": {},
   "source": [
    "# Linear regression\n",
    "\n",
    "### Prediction\n",
    "\n",
    "$$\n",
    "\\begin{align*}\n",
    "\\hat{y} &= \\mathbf{w^\\intercal x} + b \\\\\n",
    "\\end{align*}\n",
    "$$\n",
    "\n",
    "### Squared error loss\n",
    "$$\n",
    "\\begin{align*}\n",
    "L(\\hat{y}, y) &= (\\hat{y} - y)^2\n",
    "\\end{align*}\n",
    "$$\n",
    "\n",
    "### Squared error loss partial derivatives\n",
    "$$\n",
    "\\begin{align*}\n",
    "\\frac{\\partial L}{\\partial \\hat{y}} &= 2(\\hat{y} - y)\\\\\n",
    "\\frac{\\partial \\hat{y}}{\\partial \\mathbf{w}} &= \\mathbf{x} \\\\\n",
    "\\frac{\\partial \\hat{y}}{\\partial b} &= 1 \\\\\n",
    "\\end{align*}\n",
    "$$\n",
    "\n",
    "### Mean squared error\n",
    "$$\n",
    "\\begin{align*}\n",
    "E(\\mathbf{w}|\\mathcal{D}) &= \\frac{1}{N} \\sum_{i = 1}^{N} L(\\hat{y_i}, y_i) \\\\\n",
    "&= \\frac{1}{N} \\sum_{i = 1}^{N} (\\hat{y}_i - y_i)^2 \\\\\n",
    "\\end{align*}\n",
    "$$\n",
    "\n",
    "### Loss function gradients\n",
    "$$\n",
    "\\begin{align*}\n",
    "\\frac{\\partial L}{\\partial \\mathbf{w}} &= \\frac{\\partial L}{\\partial \\hat{y}} \\cdot \\frac{\\partial \\hat{y}}{\\partial \\mathbf{w}} = 2(\\hat{y} - y) \\mathbf{x} \\\\\n",
    "\\frac{\\partial L}{\\partial b} &= \\frac{\\partial L}{\\partial \\hat{y}} \\cdot \\frac{\\partial \\hat{y}}{\\partial b} = 2(\\hat{y} - y)\n",
    "\\end{align*}\n",
    "$$\n",
    "\n",
    "### Gradient descent updates\n",
    "$$\n",
    "\\begin{align*}\n",
    "\\Delta \\mathbf{w} &= \\frac{\\partial L}{\\partial \\mathbf{w}} =  2(\\hat{y} - y) \\mathbf{x}\\\\\n",
    "\\Delta b &= \\frac{\\partial L}{\\partial b} = 2(\\hat{y} - y) \\\\\n",
    "\\mathbf{w}_{t + 1} &= \\mathbf{w}_{t} - \\alpha \\Delta \\mathbf{w} \\\\\n",
    "b_{t + 1} &= b_t - \\alpha \\Delta b\n",
    "\\end{align*}\n",
    "$$\n",
    "\n",
    "### Squared error loss in matrix form\n",
    "\n",
    "$$\n",
    "\\begin{align*}\n",
    "L &= (\\mathbf{Xw} - \\mathbf{y})^\\intercal (\\mathbf{Xw} - \\mathbf{y}) \\\\\n",
    "&= ((\\mathbf{Xw})^\\intercal - \\mathbf{y}^\\intercal) (\\mathbf{Xw} - \\mathbf{y}) \\\\\n",
    "&= (\\mathbf{w}^\\intercal \\mathbf{X}^\\intercal - \\mathbf{y}^\\intercal) (\\mathbf{Xw} - \\mathbf{y}) \\\\\n",
    "&= \\mathbf{w}^\\intercal \\mathbf{X}^\\intercal \\mathbf{X} \\mathbf{w} - \\mathbf{w}^\\intercal \\mathbf{X}^\\intercal \\mathbf{y} - \\mathbf{y}^\\intercal \\mathbf{Xw} + \\mathbf{y}^\\intercal \\mathbf{y} \\\\\n",
    "&= \\mathbf{w}^\\intercal \\mathbf{X}^\\intercal \\mathbf{X} \\mathbf{w} - \\mathbf{w}^\\intercal \\mathbf{X}^\\intercal \\mathbf{y} - \\mathbf{w}^\\intercal \\mathbf{X}^\\intercal \\mathbf{y} + \\mathbf{y}^\\intercal \\mathbf{y} \\\\\n",
    "&= \\mathbf{w}^\\intercal \\mathbf{X}^\\intercal \\mathbf{X} \\mathbf{w} - 2\\mathbf{w}^\\intercal \\mathbf{X}^\\intercal \\mathbf{y} + \\mathbf{y}^\\intercal \\mathbf{y} \\\\\n",
    "\\end{align*}\n",
    "$$\n",
    "\n",
    "### Setting the partial derivative of the loss function with respect to weights to 0 we obtain the pseudoinverse parameters expression $\\mathbf{X}^+ = (\\mathbf{X}^\\intercal \\mathbf{X})^{-1}\\mathbf{X}^\\intercal$\n",
    "\n",
    "$$\\frac{\\partial L}{\\partial \\mathbf{w}} = 2 \\mathbf{X}^\\intercal \\mathbf{X} \\mathbf{w} - 2 \\mathbf{X}^\\intercal \\mathbf{y}$$\n",
    "\n",
    "$$\n",
    "\\begin{align*}\n",
    "2 \\mathbf{X}^\\intercal \\mathbf{X} \\mathbf{w} - 2 \\mathbf{X}^\\intercal \\mathbf{y} &= 0 \\\\\n",
    "\\mathbf{X}^\\intercal \\mathbf{X} \\mathbf{w} &= \\mathbf{X}^\\intercal \\mathbf{y} \\\\\n",
    "\\mathbf{w} &= (\\mathbf{X}^\\intercal \\mathbf{X})^{-1}\\mathbf{X}^\\intercal \\mathbf{y}\n",
    "\\end{align*}\n",
    "$$\n",
    "\n",
    "***\n",
    "\n",
    "# Ridge regression\n",
    "\n",
    "### Added regularization term to the loss function\n",
    "\n",
    "$$\n",
    "\\begin{align*}\n",
    "L &= (\\mathbf{Xw} - \\mathbf{y})^\\intercal (\\mathbf{Xw} - \\mathbf{y}) + \\lambda \\mathbf{w}^\\intercal \\mathbf{w} \\\\\n",
    "&= ((\\mathbf{Xw})^\\intercal - \\mathbf{y}^\\intercal) (\\mathbf{Xw} - \\mathbf{y}) + \\lambda \\mathbf{w}^\\intercal \\mathbf{w} \\\\\n",
    "&= (\\mathbf{w}^\\intercal \\mathbf{X}^\\intercal - \\mathbf{y}^\\intercal) (\\mathbf{Xw} - \\mathbf{y}) + \\lambda \\mathbf{w}^\\intercal \\mathbf{w} \\\\\n",
    "&= \\mathbf{w}^\\intercal \\mathbf{X}^\\intercal \\mathbf{X} \\mathbf{w} - \\mathbf{w}^\\intercal \\mathbf{X}^\\intercal \\mathbf{y} - \\mathbf{y}^\\intercal \\mathbf{Xw} + \\mathbf{y}^\\intercal \\mathbf{y} + \\lambda \\mathbf{w}^\\intercal \\mathbf{w} \\\\\n",
    "&= \\mathbf{w}^\\intercal \\mathbf{X}^\\intercal \\mathbf{X} \\mathbf{w} - \\mathbf{w}^\\intercal \\mathbf{X}^\\intercal \\mathbf{y} - \\mathbf{w}^\\intercal \\mathbf{X}^\\intercal \\mathbf{y} + \\mathbf{y}^\\intercal \\mathbf{y} + \\lambda \\mathbf{w}^\\intercal \\mathbf{w} \\\\\n",
    "&= \\mathbf{w}^\\intercal \\mathbf{X}^\\intercal \\mathbf{X} \\mathbf{w} - 2\\mathbf{w}^\\intercal \\mathbf{X}^\\intercal \\mathbf{y} + \\mathbf{y}^\\intercal \\mathbf{y} + \\lambda \\mathbf{w}^\\intercal \\mathbf{w} \\\\\n",
    "\\end{align*}\n",
    "$$\n",
    "\n",
    "### Setting the partial derivative of the loss function with respect to weights to 0 we obtain the parameters expression\n",
    "\n",
    "$$\\frac{\\partial L}{\\partial \\mathbf{w}} = 2 \\mathbf{X}^\\intercal \\mathbf{X} \\mathbf{w} - 2 \\mathbf{X}^\\intercal \\mathbf{y} + 2 \\lambda \\mathbf{w}\n",
    "$$\n",
    "\n",
    "$$\n",
    "\\begin{align*}\n",
    "2 \\mathbf{X}^\\intercal \\mathbf{X} \\mathbf{w} - 2 \\mathbf{X}^\\intercal \\mathbf{y} + 2 \\lambda \\mathbf{w} &= 0 \\\\\n",
    "\\mathbf{X}^\\intercal \\mathbf{X} \\mathbf{w} - \\mathbf{X}^\\intercal \\mathbf{y} + \\lambda \\mathbf{w} &= 0\\\\\n",
    "\\mathbf{X}^\\intercal \\mathbf{X} \\mathbf{w} + \\lambda \\mathbf{w} &= \\mathbf{X}^\\intercal \\mathbf{y}\\\\\n",
    "(\\mathbf{X}^\\intercal \\mathbf{X} + \\lambda \\mathbf{I}) \\mathbf{w} &= \\mathbf{X}^\\intercal \\mathbf{y} \\\\\n",
    "\\mathbf{w} &= (\\mathbf{X}^\\intercal \\mathbf{X} + \\lambda \\mathbf{I})^{-1}\\mathbf{X}^\\intercal \\mathbf{y}\n",
    "\\end{align*}\n",
    "$$\n",
    "\n",
    "### To solve for ridge regression parameters using pseudoinverse method $\\mathbf{X}$ and $\\mathbf{y}$ need to be augmented\n",
    "\n",
    "$$\\mathbf{X_{*}} = \\begin{bmatrix} \\mathbf{X} \\\\ \\sqrt{\\lambda} \\mathbf{I_{m \\times m}} \\end{bmatrix}$$\n",
    "$$\\mathbf{y_{*}} = \\begin{bmatrix} \\mathbf{y} \\\\ 0_{m \\times 1} \\end{bmatrix}$$\n",
    "\n",
    "### With augmentation we obtain the familiar squared error\n",
    "\n",
    "$$ (\\mathbf{Xw} - \\mathbf{y})^\\intercal (\\mathbf{Xw} - \\mathbf{y}) + \\lambda \\mathbf{w}^\\intercal \\mathbf{w} = (\\mathbf{X_{*}w} - \\mathbf{y_{*}})^\\intercal (\\mathbf{X_{*}w} - \\mathbf{y_{*}})$$\n",
    "***"
   ]
  },
  {
   "cell_type": "code",
   "execution_count": 1,
   "metadata": {},
   "outputs": [],
   "source": [
    "import numpy as np\n",
    "import matplotlib.pyplot as plt"
   ]
  },
  {
   "cell_type": "markdown",
   "metadata": {},
   "source": [
    "## Linear Regression with pseudoinverse implementation"
   ]
  },
  {
   "cell_type": "code",
   "execution_count": 2,
   "metadata": {},
   "outputs": [],
   "source": [
    "class LinearRegressionPinv:\n",
    "\n",
    "    def __init__(self) -> None:\n",
    "        \"\"\"\n",
    "        Linear Regression implemented using the Moore-Penrose pseudo-inverse of a matrix.\n",
    "\n",
    "        Attributes\n",
    "        ----------\n",
    "        bias : numpy.float64\n",
    "            Coefficient obtained by fitting the model.\n",
    "\n",
    "        weights : numpy.ndarray\n",
    "            Vector of coefficients obtained by fitting the model.\n",
    "        \"\"\"\n",
    "        pass\n",
    "\n",
    "    def fit(self, X: np.ndarray, y: np.ndarray) -> None:\n",
    "        \"\"\"\n",
    "        Fit the linear model.\n",
    "\n",
    "        Parameters\n",
    "        ----------\n",
    "        X : numpy.ndarray\n",
    "            Training data of shape (n_samples, n_features).\n",
    "\n",
    "        y : numpy.ndarray\n",
    "            Target values of shape (n_samples,).\n",
    "\n",
    "        Returns\n",
    "        -------\n",
    "        None\n",
    "        \"\"\"\n",
    "        # Expand the input variables with bias terms\n",
    "        X = np.hstack((np.ones((len(X), 1)), X))\n",
    "        \n",
    "        # Calculate weights using the pseudo-inverse\n",
    "        self.weights = np.dot(np.linalg.pinv(X), y)\n",
    "\n",
    "        # Bias is the first coeffiecient in the weights vector\n",
    "        self.bias = self.weights[0]\n",
    "\n",
    "        # All other coefficients are weights\n",
    "        self.weights = self.weights[1:]\n",
    "\n",
    "    def predict(self, X: np.ndarray) -> np.ndarray:\n",
    "        \"\"\"\n",
    "        Predict using the linear model.\n",
    "\n",
    "        Parameters\n",
    "        ----------\n",
    "        X : numpy.ndarray\n",
    "            Samples of shape (n_samples, n_features).\n",
    "\n",
    "        Returns\n",
    "        -------\n",
    "        y : numpy.ndarray\n",
    "            Predicted values of shape (n_samples,).\n",
    "        \"\"\"\n",
    "        # Predicted values are the dot product of samples and weights plus bias\n",
    "        return np.dot(X, self.weights) + self.bias"
   ]
  },
  {
   "cell_type": "markdown",
   "metadata": {},
   "source": [
    "## Linear regression with gradient descent"
   ]
  },
  {
   "cell_type": "code",
   "execution_count": 3,
   "metadata": {},
   "outputs": [],
   "source": [
    "class LinearRegressionGrad:\n",
    "\n",
    "    def __init__(self, learning_rate: float = 1e-3, n_iter: int = 1000) -> None:\n",
    "        \"\"\"\n",
    "        Linear Regression implemented using the gradient descent algorithm.\n",
    "\n",
    "        Parameters\n",
    "        ----------\n",
    "        learning_rate : float, default=0.001\n",
    "            Step size used in gradient descent.\n",
    "\n",
    "        n_iter : int, default=1000\n",
    "            Number of iterations of gradient descent.\n",
    "\n",
    "        Attributes\n",
    "        ----------\n",
    "        bias : numpy.float64\n",
    "            Coefficient obtained by fitting the model.\n",
    "\n",
    "        weights : numpy.ndarray \n",
    "            Vector of coefficients obtained by fitting the model.\n",
    "        \"\"\"\n",
    "        self.n_iter = n_iter\n",
    "        self.learning_rate = learning_rate\n",
    "\n",
    "    def fit(self, X: np.ndarray, y: np.ndarray) -> None:\n",
    "        \"\"\"\n",
    "        Fit the linear model.\n",
    "\n",
    "        Parameters\n",
    "        ----------\n",
    "        X : numpy.ndarray\n",
    "            Training data of shape (n_samples, n_features).\n",
    "\n",
    "        y : numpy.ndarray\n",
    "            Target values of shape (n_samples,).\n",
    "\n",
    "        Returns\n",
    "        -------\n",
    "        None\n",
    "        \"\"\"\n",
    "        \n",
    "        # Extract the number of features (number of columns)\n",
    "        n_features = X.shape[1]\n",
    "\n",
    "        # Initialize weights to a zero vector of shape (n_features, )\n",
    "        self.weights = np.zeros(n_features)\n",
    "        # Initialize bias to zero\n",
    "        self.bias = 0\n",
    "\n",
    "        # Repeating gradient descent steps\n",
    "        for _ in range(self.n_iter):\n",
    "\n",
    "            # Predict values using current parameters\n",
    "            y_pred = self.predict(X)\n",
    "\n",
    "            # Gradient of the error function with respect to weights, calculated using the entire training data\n",
    "            dw = 2 * np.dot(X.T, (y_pred - y))\n",
    "            # Gradient of the error function with respect to bias\n",
    "            db = np.sum(y_pred - y)\n",
    "            \n",
    "            # Update the weights\n",
    "            self.weights -=  self.learning_rate * dw\n",
    "            # Update the bias\n",
    "            self.bias -= self.learning_rate * db\n",
    "\n",
    "    def predict(self, X: np.ndarray) -> np.ndarray:\n",
    "        \"\"\"\n",
    "        Predict using the linear model.\n",
    "\n",
    "        Parameters\n",
    "        ----------\n",
    "        X : numpy.ndarray\n",
    "            Samples of shape (n_samples, n_features).\n",
    "\n",
    "        Returns\n",
    "        -------\n",
    "        y : numpy.ndarray\n",
    "            Predicted values of shape (n_samples,).\n",
    "        \"\"\"\n",
    "        # Predicted values are the dot product of samples and weights plus bias\n",
    "        return np.dot(X, self.weights) + self.bias"
   ]
  },
  {
   "cell_type": "markdown",
   "metadata": {},
   "source": [
    "# Ridge regression with pseudoinverse"
   ]
  },
  {
   "cell_type": "code",
   "execution_count": 4,
   "metadata": {},
   "outputs": [],
   "source": [
    "class RidgeRegressionPinv:\n",
    "\n",
    "    def __init__(self, lambda_param: float = 1.0) -> None:\n",
    "        \"\"\"\n",
    "        Ridge Regression implemented using the Moore-Penrose pseudo-inverse of a matrix.\n",
    "\n",
    "        Parameters\n",
    "        ----------\n",
    "        lambda_param : float, default=1.0\n",
    "            Regularization parameter.\n",
    "\n",
    "        Attributes\n",
    "        ----------\n",
    "        bias : numpy.float64\n",
    "            Coefficient obtained by fitting the model.\n",
    "\n",
    "        weights : numpy.ndarray\n",
    "            Vector of coefficients obtained by fitting the model.\n",
    "        \"\"\"\n",
    "        self.lambda_param = lambda_param\n",
    "\n",
    "    def fit(self, X: np.ndarray, y: np.ndarray) -> None:\n",
    "        \"\"\"\n",
    "        Fit the ridge model.\n",
    "\n",
    "        Parameters\n",
    "        ----------\n",
    "        X : numpy.ndarray\n",
    "            Training data of shape (n_samples, n_features).\n",
    "\n",
    "        y : numpy.ndarray\n",
    "            Target values of shape (n_samples,).\n",
    "\n",
    "        Returns\n",
    "        -------\n",
    "        None\n",
    "        \"\"\"\n",
    "\n",
    "        # Expand the input variables with bias terms\n",
    "        X = np.hstack((np.ones((len(X), 1)), X))\n",
    "\n",
    "        # Get the number of features\n",
    "        n_features = X.shape[1]\n",
    "\n",
    "        # Augment X with an identity matrix\n",
    "        X_aug = np.vstack((X, np.sqrt(self.lambda_param) * np.eye(n_features)))\n",
    "\n",
    "        # Augment y with zeroes\n",
    "        y_aug = np.hstack((y, np.zeros(n_features)))\n",
    "        \n",
    "        # Calculate weights using the pseudo-inverse\n",
    "        self.weights = np.dot(np.linalg.pinv(X_aug), y_aug)\n",
    "\n",
    "        # Bias is the first coeffiecient in the weights vector\n",
    "        self.bias = self.weights[0]\n",
    "\n",
    "        # All other coefficients are weights\n",
    "        self.weights = self.weights[1:]\n",
    "\n",
    "    def predict(self, X: np.ndarray) -> np.ndarray:\n",
    "        \"\"\"\n",
    "        Predict using the ridge model.\n",
    "\n",
    "        Parameters\n",
    "        ----------\n",
    "        X : numpy.ndarray\n",
    "            Samples of shape (n_samples, n_features).\n",
    "\n",
    "        Returns\n",
    "        -------\n",
    "        y : numpy.ndarray\n",
    "            Predicted values of shape (n_samples,).\n",
    "        \"\"\"\n",
    "        # Predicted values are the dot product of samples and weights plus bias\n",
    "        return np.dot(X, self.weights) + self.bias"
   ]
  },
  {
   "cell_type": "markdown",
   "metadata": {},
   "source": [
    "## Fitting data to a linear regression model"
   ]
  },
  {
   "cell_type": "code",
   "execution_count": 5,
   "metadata": {},
   "outputs": [
    {
     "data": {
      "image/png": "[encoded data removed]",
      "text/plain": [
       "<Figure size 640x480 with 1 Axes>"
      ]
     },
     "metadata": {},
     "output_type": "display_data"
    }
   ],
   "source": [
    "X = np.array([[0], [2], [4]])\n",
    "y = np.array([1, 5, 3])\n",
    "\n",
    "model = LinearRegressionPinv()\n",
    "model.fit(X, y)\n",
    "\n",
    "x = np.linspace(-5, 5).reshape(-1, 1)\n",
    "plt.scatter(X, y, color=\"red\")\n",
    "plt.plot(x, model.predict(x), label=f'y = {np.round(model.weights[0], 2)}x + {model.bias}')\n",
    "plt.legend()\n",
    "plt.show()"
   ]
  },
  {
   "cell_type": "code",
   "execution_count": 6,
   "metadata": {},
   "outputs": [
    {
     "data": {
      "image/png": "[encoded data removed]",
      "text/plain": [
       "<Figure size 640x480 with 1 Axes>"
      ]
     },
     "metadata": {},
     "output_type": "display_data"
    }
   ],
   "source": [
    "X = np.array([[0], [2], [4]])\n",
    "y = np.array([1, 5, 3])\n",
    "\n",
    "model2 = LinearRegressionGrad(learning_rate=1e-2)\n",
    "model2.fit(X, y)\n",
    "\n",
    "x = np.linspace(-5, 5).reshape(-1, 1)\n",
    "plt.scatter(X, y, color=\"red\")\n",
    "plt.plot(x, model2.predict(x), label=f'y = {np.round(model2.weights[0], 2)}x + {np.round(model2.bias, 2)}')\n",
    "plt.legend()\n",
    "plt.show()"
   ]
  },
  {
   "cell_type": "markdown",
   "metadata": {},
   "source": [
    "## Polynomial regression with pseudoinverse implementation"
   ]
  },
  {
   "cell_type": "code",
   "execution_count": 7,
   "metadata": {},
   "outputs": [],
   "source": [
    "from sklearn.preprocessing import PolynomialFeatures\n",
    "\n",
    "class PolynomialRegression:\n",
    "\n",
    "    def __init__(self, degree: int=2) -> None:\n",
    "        \"\"\"\n",
    "        Polynomial Regression implemented using the Moore-Penrose pseudo-inverse of a matrix.\n",
    "\n",
    "        Parameters\n",
    "        ----------\n",
    "        degree : int, default=2\n",
    "            Degree of polynomial.\n",
    "\n",
    "        Attributes\n",
    "        ----------\n",
    "        weights : numpy.ndarray \n",
    "            Vector of coefficients obtained by fitting the model. \n",
    "            Bias is included due to sklearn.preprocessing.PolynomialFeatures transformation.\n",
    "        \"\"\"\n",
    "        self.poly = PolynomialFeatures(degree)\n",
    "\n",
    "    def fit(self, X: np.ndarray, y: np.ndarray) -> None:\n",
    "        \"\"\"\n",
    "        Fit the linear model.\n",
    "\n",
    "        Parameters\n",
    "        ----------\n",
    "        X : numpy.ndarray\n",
    "            Training data of shape (n_samples, n_features).\n",
    "\n",
    "        y : numpy.ndarray\n",
    "            Target values of shape (n_samples,).\n",
    "\n",
    "        Returns\n",
    "        -------\n",
    "        None\n",
    "        \"\"\"\n",
    "        # Expand the input variables with polynomial terms\n",
    "        X = self.poly.fit_transform(X)\n",
    "        \n",
    "        # Calculate weights using the pseudo-inverse\n",
    "        self.weights = np.dot(np.linalg.pinv(X), y)\n",
    "\n",
    "    def predict(self, X: np.ndarray) -> np.ndarray:\n",
    "        \"\"\"\n",
    "        Predict using the linear model.\n",
    "\n",
    "        Parameters\n",
    "        ----------\n",
    "        X : numpy.ndarray\n",
    "            Samples of shape (n_samples, n_features).\n",
    "\n",
    "        Returns\n",
    "        -------\n",
    "        y : numpy.ndarray\n",
    "            Predicted values of shape (n_samples,).\n",
    "        \"\"\"\n",
    "        return np.dot(self.poly.transform(X), self.weights)"
   ]
  },
  {
   "cell_type": "markdown",
   "metadata": {},
   "source": [
    "## Fitting data to a polynomial regression model"
   ]
  },
  {
   "cell_type": "code",
   "execution_count": 8,
   "metadata": {},
   "outputs": [
    {
     "data": {
      "image/png": "[encoded data removed]",
      "text/plain": [
       "<Figure size 640x480 with 1 Axes>"
      ]
     },
     "metadata": {},
     "output_type": "display_data"
    }
   ],
   "source": [
    "X = np.array([[0], [2], [4], [5]])\n",
    "y = np.array([1, 5, 3, 0])\n",
    "\n",
    "model = PolynomialRegression()\n",
    "model.fit(X, y)\n",
    "\n",
    "x = np.linspace(-5, 5).reshape(-1, 1)\n",
    "plt.scatter(X, y, color=\"red\")\n",
    "plt.plot(x, model.predict(x), label=f'y = {np.round(model.weights[2], 2)}x^2 + {np.round(model.weights[1], 2)}x + {np.round(model.weights[0], 2)}')\n",
    "plt.legend()\n",
    "plt.show()"
   ]
  },
  {
   "cell_type": "markdown",
   "metadata": {},
   "source": [
    "## Fitting data to a multiple linear regression model"
   ]
  },
  {
   "cell_type": "code",
   "execution_count": 9,
   "metadata": {},
   "outputs": [
    {
     "name": "stdout",
     "output_type": "stream",
     "text": [
      "z = -7.74x + -0.6y + 50.12\n"
     ]
    }
   ],
   "source": [
    "X = np.array([[0, 1],\n",
    "              [2, 5],\n",
    "              [4, 3],\n",
    "              [5, 0]])\n",
    "y = np.array([50, 30, 20, 10])\n",
    "\n",
    "model = LinearRegressionPinv()\n",
    "model.fit(X, y)\n",
    "\n",
    "print(f'z = {np.round(model.weights[0], 2)}x + {np.round(model.weights[1], 2)}y + {np.round(model.bias, 2)}')"
   ]
  },
  {
   "cell_type": "code",
   "execution_count": 10,
   "metadata": {},
   "outputs": [
    {
     "name": "stdout",
     "output_type": "stream",
     "text": [
      "z = -7.74x + -0.6y + 50.12\n"
     ]
    }
   ],
   "source": [
    "model2 = LinearRegressionGrad(n_iter=2000, learning_rate=1e-2)\n",
    "model2.fit(X, y)\n",
    "\n",
    "print(f'z = {np.round(model2.weights[0], 2)}x + {np.round(model2.weights[1], 2)}y + {np.round(model2.bias, 2)}')"
   ]
  },
  {
   "cell_type": "markdown",
   "metadata": {},
   "source": [
    "# Fitting data to a ridge model"
   ]
  },
  {
   "cell_type": "code",
   "execution_count": 46,
   "metadata": {},
   "outputs": [
    {
     "data": {
      "image/png": "[encoded data removed]",
      "text/plain": [
       "<Figure size 640x480 with 1 Axes>"
      ]
     },
     "metadata": {},
     "output_type": "display_data"
    }
   ],
   "source": [
    "from sklearn.datasets import make_regression\n",
    "\n",
    "X, y = make_regression(n_samples=100, n_features=1, noise=7.0)\n",
    "plt.scatter(X, y)\n",
    "plt.show()"
   ]
  },
  {
   "cell_type": "code",
   "execution_count": 50,
   "metadata": {},
   "outputs": [],
   "source": [
    "model = RidgeRegressionPinv(lambda_param=5)\n",
    "model.fit(X, y)"
   ]
  },
  {
   "cell_type": "code",
   "execution_count": 51,
   "metadata": {},
   "outputs": [
    {
     "data": {
      "image/png": "[encoded data removed]",
      "text/plain": [
       "<Figure size 640x480 with 1 Axes>"
      ]
     },
     "metadata": {},
     "output_type": "display_data"
    }
   ],
   "source": [
    "x = np.linspace(-2, 2, 50)\n",
    "plt.scatter(X, y)\n",
    "plt.plot(x, model.predict(x.reshape(-1, 1)), color='red')\n",
    "plt.show()"
   ]
  }
 ],
 "metadata": {
  "kernelspec": {
   "display_name": "Python_venv",
   "language": "python",
   "name": "python3"
  },
  "language_info": {
   "codemirror_mode": {
    "name": "ipython",
    "version": 3
   },
   "file_extension": ".py",
   "mimetype": "text/x-python",
   "name": "python",
   "nbconvert_exporter": "python",
   "pygments_lexer": "ipython3",
   "version": "3.10.12"
  }
 },
 "nbformat": 4,
 "nbformat_minor": 2
}
