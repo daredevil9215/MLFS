{
 "cells": [
  {
   "cell_type": "code",
   "execution_count": 1,
   "metadata": {},
   "outputs": [],
   "source": [
    "import numpy as np\n",
    "import matplotlib.pyplot as plt"
   ]
  },
  {
   "cell_type": "markdown",
   "metadata": {},
   "source": [
    "# Logistic regression\n",
    "\n",
    "### Prediction\n",
    "\n",
    "$$\n",
    "\\begin{align*}\n",
    "h(\\mathbf{x}) &= \\mathbf{w^\\intercal x} + b \\\\\n",
    "y &= \\sigma(h(\\mathbf{x})) \\\\\n",
    "\\sigma(x) &= \\frac{1}{1 + e^{-x}}\n",
    "\\end{align*}\n",
    "$$\n",
    "\n",
    "### Cross entropy loss\n",
    "$$\n",
    "\\begin{align*}\n",
    "L(\\hat{y}, y) &= -\\left[ y \\log(\\hat{y}) + (1 - y) \\log(1 - \\hat{y}) \\right]\n",
    "\\end{align*}\n",
    "$$\n",
    "\n",
    "### Cross entropy loss partial derivatives\n",
    "$$\n",
    "\\begin{align*}\n",
    "\\frac{\\partial L}{\\partial \\hat{y}} &= - \\left[ \\frac{y}{\\hat{y}} - \\frac{1 - y}{1 - \\hat{y}} \\right] = \\frac{\\hat{y} - y}{\\hat{y} (1 - \\hat{y})} \\\\\n",
    "\\frac{\\partial \\hat{y}}{\\partial \\mathbf{w}} &= \\hat{y}(1- \\hat{y}) \\mathbf{x} \\\\\n",
    "\\frac{\\partial \\hat{y}}{\\partial b} &= \\hat{y}(1- \\hat{y}) \\\\\n",
    "\\end{align*}\n",
    "$$\n",
    "\n",
    "### Error function\n",
    "$$\n",
    "\\begin{align*}\n",
    "E(\\mathbf{w}|\\mathcal{D}) &= \\frac{1}{N} \\sum_{i = 1}^{N} L(\\hat{y_i}, y_i) \\\\\n",
    "&= - \\frac{1}{N} \\sum_{i = 1}^{N} \\left[ y_i \\log(\\hat{y_i}) + (1 - y_i) \\log(1 - \\hat{y_i}) \\right] \\\\\n",
    "\\end{align*}\n",
    "$$\n",
    "\n",
    "### Error function gradients\n",
    "$$\n",
    "\\begin{align*}\n",
    "\\frac{\\partial E}{\\partial \\mathbf{w}} &= \\frac{\\partial L}{\\partial \\hat{y}} \\cdot \\frac{\\partial \\hat{y}}{\\partial \\mathbf{w}} = (\\hat{y} - y) \\mathbf{x} \\\\\n",
    "\\frac{\\partial E}{\\partial b} &= \\frac{\\partial L}{\\partial \\hat{y}} \\cdot \\frac{\\partial \\hat{y}}{\\partial b} = \\hat{y} - y\n",
    "\\end{align*}\n",
    "$$\n",
    "\n",
    "### Gradient descent updates\n",
    "$$\n",
    "\\begin{align*}\n",
    "\\Delta \\mathbf{w} &= \\frac{\\partial E}{\\partial \\mathbf{w}} =  (\\hat{y} - y) \\mathbf{x}\\\\\n",
    "\\Delta b &= \\frac{\\partial E}{\\partial b} = \\hat{y} - y \\\\\n",
    "\\mathbf{w}_{t + 1} &= \\mathbf{w}_{t} - \\alpha \\Delta \\mathbf{w} \\\\\n",
    "b_{t + 1} &= b_t - \\alpha \\Delta b\n",
    "\\end{align*}\n",
    "$$"
   ]
  },
  {
   "cell_type": "code",
   "execution_count": 2,
   "metadata": {},
   "outputs": [],
   "source": [
    "def plot_2d_clf_problem(X, y, h=None):\n",
    "    '''\n",
    "    Plots a two-dimensional labeled dataset (X,y) and, if function h(x) is given, \n",
    "    the decision surfaces.\n",
    "    '''\n",
    "    assert X.shape[1] == 2, \"Dataset is not two-dimensional\"\n",
    "    if h!=None : \n",
    "        # Create a mesh to plot in\n",
    "        r = 0.03  # mesh resolution\n",
    "        x_min, x_max = X[:, 0].min() - 1, X[:, 0].max() + 1\n",
    "        y_min, y_max = X[:, 1].min() - 1, X[:, 1].max() + 1\n",
    "        xx, yy = np.meshgrid(np.arange(x_min, x_max, r),\n",
    "                             np.arange(y_min, y_max, r))\n",
    "        XX=np.c_[xx.ravel(), yy.ravel()]\n",
    "        try:\n",
    "            Z_test = h(XX)\n",
    "            if Z_test.shape == ():\n",
    "                # h returns a scalar when applied to a matrix; map explicitly\n",
    "                Z = np.array(list(map(h,XX)))\n",
    "            else :\n",
    "                Z = Z_test\n",
    "        except ValueError:\n",
    "            # can't apply to a matrix; map explicitly\n",
    "            Z = np.array(list(map(h,XX)))\n",
    "        # Put the result into a color plot\n",
    "        Z = Z.reshape(xx.shape)\n",
    "        plt.contourf(xx, yy, Z, cmap=plt.cm.Pastel1)\n",
    "\n",
    "    # Plot the dataset\n",
    "    plt.scatter(X[:,0],X[:,1], c=y, cmap=plt.cm.tab20b, marker='o', s=50);"
   ]
  },
  {
   "cell_type": "code",
   "execution_count": 3,
   "metadata": {},
   "outputs": [],
   "source": [
    "class LogisticRegression:\n",
    "\n",
    "    def __init__(self, lr = 1e-3, max_iter=1000):\n",
    "        self.lr = lr\n",
    "        self.max_iter = max_iter\n",
    "\n",
    "    def fit(self, X, y):\n",
    "        self.X = X\n",
    "        self.y = y\n",
    "        if len(self.y.shape) != 1:\n",
    "            self.y = self.y.reshape(-1)\n",
    "\n",
    "        self.weights = np.zeros(self.X.shape[1])\n",
    "        self.bias = 0\n",
    "\n",
    "        for _ in range(self.max_iter):\n",
    "\n",
    "            y_pred =  self.predict(X)\n",
    "\n",
    "            dw = np.dot(self.X.T, (y_pred - self.y))\n",
    "            db = np.sum(y_pred - self.y)\n",
    "\n",
    "            self.weights = self.weights - self.lr * dw\n",
    "            self.bias = self.bias - self.lr * db\n",
    "\n",
    "    def predict(self, X):\n",
    "        y_pred = np.dot(X, self.weights) + self.bias\n",
    "        return self.sigmoid(y_pred)\n",
    "    \n",
    "    def sigmoid(self, x):\n",
    "        return 1 / (1 + np.exp(-x))\n",
    "    \n",
    "    def cross_entropy_loss(self, y_pred, y_true):\n",
    "        return -1 * (y_true * np.log(y_pred) + (1 - y_true) * np.log(1 - y_pred))\n",
    "    \n",
    "    def error_function(self, X, y):\n",
    "        y_pred = self.predict(X)\n",
    "        return np.mean(self.cross_entropy_loss(y_pred, y))\n",
    "    \n",
    "    def accuracy(self, X, y):\n",
    "        return np.mean(np.round(self.predict(X), 0) == y.reshape(-1))"
   ]
  },
  {
   "cell_type": "code",
   "execution_count": 6,
   "metadata": {},
   "outputs": [
    {
     "data": {
      "image/png": "[encoded data removed]",
      "text/plain": [
       "<Figure size 640x480 with 1 Axes>"
      ]
     },
     "metadata": {},
     "output_type": "display_data"
    }
   ],
   "source": [
    "from sklearn.datasets import make_classification\n",
    "\n",
    "X, y = make_classification(n_samples=30, n_features=2, n_informative=2, n_redundant=0)\n",
    "plot_2d_clf_problem(X, y)"
   ]
  },
  {
   "cell_type": "code",
   "execution_count": 7,
   "metadata": {},
   "outputs": [
    {
     "name": "stdout",
     "output_type": "stream",
     "text": [
      "Accuracy: 1.0\n"
     ]
    },
    {
     "data": {
      "image/png": "[encoded data removed]",
      "text/plain": [
       "<Figure size 640x480 with 1 Axes>"
      ]
     },
     "metadata": {},
     "output_type": "display_data"
    }
   ],
   "source": [
    "model = LogisticRegression(lr=3e-3, max_iter=5000)\n",
    "model.fit(X, y)\n",
    "print(f'Accuracy: {model.accuracy(X, y)}')\n",
    "plot_2d_clf_problem(X, y, lambda x : model.predict(x) > 0.5)"
   ]
  }
 ],
 "metadata": {
  "kernelspec": {
   "display_name": "Python_venv",
   "language": "python",
   "name": "python3"
  },
  "language_info": {
   "codemirror_mode": {
    "name": "ipython",
    "version": 3
   },
   "file_extension": ".py",
   "mimetype": "text/x-python",
   "name": "python",
   "nbconvert_exporter": "python",
   "pygments_lexer": "ipython3",
   "version": "3.10.12"
  }
 },
 "nbformat": 4,
 "nbformat_minor": 2
}
